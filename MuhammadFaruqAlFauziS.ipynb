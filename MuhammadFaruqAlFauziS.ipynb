{
  "nbformat": 4,
  "nbformat_minor": 0,
  "metadata": {
    "colab": {
      "provenance": []
    },
    "kernelspec": {
      "name": "python3",
      "display_name": "Python 3"
    },
    "language_info": {
      "name": "python"
    }
  },
  "cells": [
    {
      "cell_type": "code",
      "execution_count": null,
      "metadata": {
        "id": "Q0gPtQMMR-KO"
      },
      "outputs": [],
      "source": [
        "import cv2\n",
        "import numpy as np\n",
        "import matplotlib.pyplot as plt\n",
        "%matplotlib inline\n",
        "\n",
        "img_path = \"MUHAMMADFARUQALFAUZI.jpg\"\n",
        "img = cv2.imread(img_path)\n",
        "print(img.shape)\n",
        "\n",
        "fix_img = cv2.cvtColor(img, cv2.COLOR_BGR2RGB)\n",
        "plt.imshow(fix_img)\n",
        "\n",
        "R, G, B = fix_img[:,:,0], fix_img[:,:,1], fix_img[:,:,2]\n",
        "print(np.array(fix_img))"
      ]
    },
    {
      "cell_type": "code",
      "source": [
        "# metode lightness\n",
        "fix_img[:] = np.max(fix_img, axis = -1, keepdims=1)/2 + np.min(fix_img, axis = -1, keepdims=1)/2\n",
        "\n",
        "print(np.array(fix_img[:]))\n",
        "\n",
        "plt.axis('off')\n",
        "plt.imshow(fix_img[:])\n",
        "plt.savefig('Metode Lightness', bbox_inches='tight')\n"
      ],
      "metadata": {
        "id": "iFRDrLbrDW-G"
      },
      "execution_count": null,
      "outputs": []
    },
    {
      "cell_type": "code",
      "source": [
        "# metode average\n",
        "gray_img = np.mean(fix_img, axis = -1)\n",
        "\n",
        "print(np.array(gray_img))\n",
        "\n",
        "plt.axis('off')\n",
        "plt.imshow(gray_img, cmap = 'gray')\n",
        "plt.savefig('Metode Average', bbox_inches='tight')"
      ],
      "metadata": {
        "id": "FLBLUOF1D4p8"
      },
      "execution_count": null,
      "outputs": []
    },
    {
      "cell_type": "code",
      "source": [
        "# metode luminosity\n",
        "lumi_img = (0.2126*R) + (0.7152*G) + (0.0722*B)\n",
        "# print(lumi_img)\n",
        "print(np.array(lumi_img))\n",
        "\n",
        "plt.axis('off')\n",
        "plt.imshow(lumi_img, cmap = 'gray')\n",
        "plt.savefig('Metode Luminosity', bbox_inches='tight')\n"
      ],
      "metadata": {
        "id": "Mh0pk60gEUav"
      },
      "execution_count": null,
      "outputs": []
    },
    {
      "cell_type": "code",
      "source": [
        "# metode luminosity 2\n",
        "wav_img = (0.299*R) + (0.587*G) + (0.114*B)\n",
        "# print(lumi_img)\n",
        "print(np.array(wav_img))\n",
        "\n",
        "plt.axis('off')\n",
        "plt.imshow(wav_img, cmap = 'gray')\n",
        "plt.savefig('Metode Weighted Average', bbox_inches='tight')"
      ],
      "metadata": {
        "id": "BSRCngr8EgeV"
      },
      "execution_count": null,
      "outputs": []
    }
  ]
}